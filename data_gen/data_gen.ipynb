{
 "cells": [
  {
   "cell_type": "code",
   "execution_count": 1,
   "metadata": {},
   "outputs": [
    {
     "name": "stdout",
     "output_type": "stream",
     "text": [
      "Jupyter environment detected. Enabling Open3D WebVisualizer.\n",
      "[Open3D INFO] WebRTC GUI backend enabled.\n",
      "[Open3D INFO] WebRTCWindowSystem: HTTP handshake server disabled.\n"
     ]
    }
   ],
   "source": [
    "import sapien\n",
    "from data_utils import *\n",
    "import argparse\n",
    "import json\n",
    "from pathlib import Path as P\n",
    "# base_dir = P('/afs/inf.ed.ac.uk/user/s22/s2262444/djn')\n",
    "urdf_file = \"/afs/inf.ed.ac.uk/user/s22/s2262444/djn/full_sapien/8867/mobility.urdf\"\n",
    "resolution = [512, 512]\n",
    "output_dir = \"/afs/inf.ed.ac.uk/user/s22/s2262444/djn/nerf/draft\""
   ]
  },
  {
   "cell_type": "code",
   "execution_count": 2,
   "metadata": {},
   "outputs": [],
   "source": [
    "engine = sapien.Engine()\n",
    "renderer = sapien.SapienRenderer(offscreen_only=True)\n",
    "engine.set_renderer(renderer)\n",
    "\n",
    "scene = engine.create_scene()\n",
    "scene.set_timestep(1 / 100.0)\n",
    "\n",
    "loader = scene.create_urdf_loader()\n",
    "loader.fix_root_link = True\n",
    "\n",
    "urdf_path = urdf_file\n",
    "asset = loader.load_kinematic(str(urdf_path))\n",
    "# asset = loader.load(urdf_path)\n",
    "assert asset, 'URDF not loaded.'\n",
    "\n",
    "\n",
    "scene.set_ambient_light([0.5, 0.5, 0.5])\n",
    "scene.add_directional_light([0, 1, -1], [0.5, 0.5, 0.5], shadow=True)\n",
    "scene.add_point_light([1, 2, 2], [1, 1, 1], shadow=True)\n",
    "scene.add_point_light([1, -2, 2], [1, 1, 1], shadow=True)\n",
    "scene.add_point_light([-1, 0, 1], [1, 1, 1], shadow=True)\n",
    "\n",
    "near, far = 0.1, 100\n",
    "width, height = resolution\n",
    "# width, height = 640, 480\n",
    "camera = scene.add_camera(\n",
    "    name=\"camera\",\n",
    "    width=width,\n",
    "    height=height,\n",
    "    fovy=np.deg2rad(35),\n",
    "    near=near,\n",
    "    far=far,\n",
    ")\n",
    "\n",
    "output_path = P(output_dir)\n",
    "output_path.mkdir(exist_ok=True, parents=True)\n",
    "# qpos = getattr(args, 'q_pos', None)"
   ]
  },
  {
   "cell_type": "code",
   "execution_count": 3,
   "metadata": {},
   "outputs": [
    {
     "name": "stderr",
     "output_type": "stream",
     "text": [
      "100%|██████████| 120/120 [00:05<00:00, 20.08it/s]"
     ]
    },
    {
     "name": "stdout",
     "output_type": "stream",
     "text": [
      "min_d =  4510\n",
      "max_d =  7511\n"
     ]
    },
    {
     "name": "stderr",
     "output_type": "stream",
     "text": [
      "\n"
     ]
    }
   ],
   "source": [
    "gen_articulated_object_nerf_s2(120, 6, 'train', camera, asset, scene, object_path=output_path, \\\n",
    "        render_pose_file_dir=None, q_pos=[60, 100])"
   ]
  },
  {
   "cell_type": "code",
   "execution_count": 4,
   "metadata": {},
   "outputs": [
    {
     "data": {
      "text/plain": [
       "[<sapien.core.pysapien.KinematicJointFixed at 0x7f61bc620ef0>,\n",
       " <sapien.core.pysapien.KinematicJointFixed at 0x7f61bc620830>,\n",
       " <sapien.core.pysapien.KinematicJointRevolute at 0x7f61bc620e30>,\n",
       " <sapien.core.pysapien.KinematicJointRevolute at 0x7f61bc620d70>]"
      ]
     },
     "execution_count": 4,
     "metadata": {},
     "output_type": "execute_result"
    }
   ],
   "source": [
    "asset.get_joints()"
   ]
  },
  {
   "cell_type": "code",
   "execution_count": null,
   "metadata": {},
   "outputs": [],
   "source": [
    "art_gen_dict = {\n",
    "    \"object_name\": \"door\",\n",
    "    \"object_id\": objectid\n",
    "}"
   ]
  },
  {
   "cell_type": "code",
   "execution_count": null,
   "metadata": {},
   "outputs": [],
   "source": [
    "img_output_path = P(output_path) / 'load' / 'sapien' / 'door' / '8867'\n",
    "img_output_pat"
   ]
  },
  {
   "cell_type": "code",
   "execution_count": 6,
   "metadata": {},
   "outputs": [],
   "source": [
    "json_fname = \"/afs/inf.ed.ac.uk/user/s22/s2262444/djn/full_sapien/8867/mobility_v2.json\"\n",
    "with open(str(json_fname), 'r') as f:\n",
    "    obj_meta = json.load(f)"
   ]
  },
  {
   "cell_type": "code",
   "execution_count": 10,
   "metadata": {},
   "outputs": [
    {
     "data": {
      "text/plain": [
       "{'id': 0,\n",
       " 'parent': -1,\n",
       " 'joint': 'static',\n",
       " 'name': 'outside_frame',\n",
       " 'parts': [{'id': 1, 'name': 'outside_frame', 'children': []}],\n",
       " 'jointData': {}}"
      ]
     },
     "execution_count": 10,
     "metadata": {},
     "output_type": "execute_result"
    }
   ],
   "source": [
    "obj_meta[0]"
   ]
  },
  {
   "cell_type": "code",
   "execution_count": 11,
   "metadata": {},
   "outputs": [
    {
     "data": {
      "text/plain": [
       "{'id': 1,\n",
       " 'parent': 0,\n",
       " 'joint': 'hinge',\n",
       " 'name': 'surface_board',\n",
       " 'parts': [{'id': 6, 'name': 'surface_board', 'children': []}],\n",
       " 'jointData': {'axis': {'origin': [0.2542892495494744,\n",
       "    0.8236029744148256,\n",
       "    -0.10435184144165952],\n",
       "   'direction': [0, 1, 0]},\n",
       "  'limit': {'a': -46.80000000000001,\n",
       "   'b': 86.39999999999999,\n",
       "   'noLimit': False}}}"
      ]
     },
     "execution_count": 11,
     "metadata": {},
     "output_type": "execute_result"
    }
   ],
   "source": [
    "obj_meta[1]"
   ]
  },
  {
   "cell_type": "code",
   "execution_count": 12,
   "metadata": {},
   "outputs": [
    {
     "data": {
      "text/plain": [
       "{'id': 2,\n",
       " 'parent': 1,\n",
       " 'joint': 'hinge',\n",
       " 'name': 'fixed_part',\n",
       " 'parts': [{'id': 5, 'name': 'fixed_part', 'children': []},\n",
       "  {'id': 8, 'name': 'fixed_part', 'children': []}],\n",
       " 'jointData': {'axis': {'origin': [-0.18474874695079993,\n",
       "    -0.19438195692797727,\n",
       "    0.29111072962483925],\n",
       "   'direction': [-0.7071076016277473,\n",
       "    1.6327306245056322e-08,\n",
       "    -0.7071059607443956]},\n",
       "  'limit': {'a': -45, 'b': 45, 'noLimit': False}}}"
      ]
     },
     "execution_count": 12,
     "metadata": {},
     "output_type": "execute_result"
    }
   ],
   "source": [
    "obj_meta[2]"
   ]
  },
  {
   "cell_type": "code",
   "execution_count": 13,
   "metadata": {},
   "outputs": [
    {
     "data": {
      "text/plain": [
       "2"
      ]
     },
     "execution_count": 13,
     "metadata": {},
     "output_type": "execute_result"
    }
   ],
   "source": [
    "asset.dof"
   ]
  },
  {
   "cell_type": "code",
   "execution_count": 14,
   "metadata": {},
   "outputs": [
    {
     "data": {
      "text/plain": [
       "array([1.5079645, 0.7853982], dtype=float32)"
      ]
     },
     "execution_count": 14,
     "metadata": {},
     "output_type": "execute_result"
    }
   ],
   "source": [
    "asset.get_qpos()"
   ]
  },
  {
   "cell_type": "code",
   "execution_count": null,
   "metadata": {},
   "outputs": [],
   "source": []
  }
 ],
 "metadata": {
  "kernelspec": {
   "display_name": "art_ngp",
   "language": "python",
   "name": "python3"
  },
  "language_info": {
   "codemirror_mode": {
    "name": "ipython",
    "version": 3
   },
   "file_extension": ".py",
   "mimetype": "text/x-python",
   "name": "python",
   "nbconvert_exporter": "python",
   "pygments_lexer": "ipython3",
   "version": "3.9.19"
  }
 },
 "nbformat": 4,
 "nbformat_minor": 2
}
