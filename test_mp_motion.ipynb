{
 "cells": [
  {
   "cell_type": "code",
   "execution_count": 36,
   "metadata": {},
   "outputs": [],
   "source": [
    "from dataset.io_utils import load_multipart_gt\n",
    "from pathlib import Path as P\n",
    "import torch\n",
    "from dataset.pose_utils import quaternion_to_axis_angle, get_rotation_axis_angle\n",
    "import torch.nn.functional as F\n",
    "from models.utils import axis_metrics, geodesic_distance, translational_error\n",
    "gt_path = 'data_paris/sapien/fridge_mp/10612/textured_objs/trans.json'\n",
    "motion_type = 'r'\n",
    "state = 'end'\n",
    "gt_infos = load_multipart_gt(gt_path,state=state, motion_type=motion_type)\n",
    "root_path = P('/home/dj/Downloads/project/nerfacc_ngp/results_stable/fridge_mp_start_to_end_f16')"
   ]
  },
  {
   "cell_type": "code",
   "execution_count": 31,
   "metadata": {},
   "outputs": [],
   "source": [
    "for exp_path in root_path.glob('*'):\n",
    "    if exp_path.name != 'eval':\n",
    "        ckpt_fname = exp_path / 'ckpt' / 'best_ckpt.pth'\n",
    "        try:\n",
    "            ckpt_dict = torch.load(str(ckpt_fname))\n",
    "            break\n",
    "        except:\n",
    "            print(f'ckpt file does not exist in folder {ckpt_fname}')\n",
    "        # break"
   ]
  },
  {
   "cell_type": "code",
   "execution_count": 32,
   "metadata": {},
   "outputs": [
    {
     "data": {
      "text/plain": [
       "dict_keys(['estimator', 'model', 'optimizer', 'prop_networks', 'prop_optimizer', 'pose_params'])"
      ]
     },
     "execution_count": 32,
     "metadata": {},
     "output_type": "execute_result"
    }
   ],
   "source": [
    "\n",
    "ckpt_dict = torch.load(str(root_path / '1713347432' / 'ckpt' / '010000.pth'))\n",
    "ckpt_dict.keys()"
   ]
  },
  {
   "cell_type": "code",
   "execution_count": 37,
   "metadata": {},
   "outputs": [
    {
     "name": "stdout",
     "output_type": "stream",
     "text": [
      "{'axis_o': tensor([ 0.4008, -0.3101,  0.0799], device='cuda:0'), 'axis_d': tensor([0.0106, 0.0020, 0.9999], device='cuda:0'), 'R': tensor([[ 8.2234e-01, -5.6899e-01,  3.0297e-03],\n",
      "        [ 5.6900e-01,  8.2232e-01, -5.6738e-03],\n",
      "        [ 7.3695e-04,  6.3897e-03,  9.9998e-01]]), 'theta': tensor([0.6053], device='cuda:0'), 'dist': tensor([0.], device='cuda:0')}\n",
      "[{'ang_err': 0.6180230975151062, 'pos_err': 0.0006404438754543662, 'geo_dist': 0.4877876341342926, 'trans_err': 0.0}, {'ang_err': 0.6180230975151062, 'pos_err': 0.16591235995292664, 'geo_dist': 79.6811752319336, 'trans_err': 0.0}]\n",
      "{'axis_o': tensor([-0.4001, -0.2844,  0.0864], device='cuda:0'), 'axis_d': tensor([ 0.0033, -0.0083, -1.0000], device='cuda:0'), 'R': tensor([[ 7.2711e-01,  6.8649e-01, -6.6276e-03],\n",
      "        [-6.8651e-01,  7.2712e-01,  2.5808e-05],\n",
      "        [ 4.8368e-03,  4.5312e-03,  9.9998e-01]]), 'theta': tensor([0.7567], device='cuda:0'), 'dist': tensor([0.], device='cuda:0')}\n",
      "[{'ang_err': 0.5139620304107666, 'pos_err': 0.7622411251068115, 'geo_dist': 78.3550796508789, 'trans_err': 0.0}, {'ang_err': 0.5139620304107666, 'pos_err': 0.0059699732810258865, 'geo_dist': 1.6888753175735474, 'trans_err': 0.0}]\n"
     ]
    }
   ],
   "source": [
    "ckpt_dict['pose_params']\n",
    "for p in ckpt_dict['pose_params']:\n",
    "    axis_dir, radian, angles = quaternion_to_axis_angle(p['Q'])\n",
    "    pred_R = get_rotation_axis_angle(axis_dir.cpu().numpy(), radian.cpu().numpy())\n",
    "    \n",
    "    if motion_type == 'r':\n",
    "        pred_axis_dir = axis_dir.detach()\n",
    "    else:\n",
    "        pred_axis_dir = p['dir'].detach()\n",
    "    \n",
    "    pred_info = {\n",
    "        \"axis_o\": p['axis_origin'].detach(),\n",
    "        \"axis_d\": F.normalize(pred_axis_dir.view(1, -1)).view(-1),\n",
    "        \"R\": torch.Tensor(pred_R),\n",
    "        \"theta\": radian.detach(),\n",
    "        \"dist\": p['scale'].detach()\n",
    "    }\n",
    "    print(pred_info)\n",
    "    eval_dicts = []\n",
    "    for gt_info in gt_infos:\n",
    "        ang_err, pos_err = axis_metrics(pred_info, gt_info)\n",
    "        trans_err = translational_error(pred_info, gt_info)\n",
    "        geo_dist = geodesic_distance(torch.Tensor(pred_R), gt_info['R'])\n",
    "        eval_metric_dict = {\n",
    "                                \"ang_err\": ang_err.item(),\n",
    "                                \"pos_err\": pos_err.item(),\n",
    "                                \"geo_dist\": geo_dist.item(),\n",
    "                                \"trans_err\": trans_err.item()\n",
    "                            }\n",
    "        eval_dicts += [eval_metric_dict]\n",
    "    print(eval_dicts)"
   ]
  },
  {
   "cell_type": "code",
   "execution_count": 29,
   "metadata": {},
   "outputs": [
    {
     "data": {
      "text/plain": [
       "[{'axis_o': tensor([ 0.4272, -0.3057,  0.8436]),\n",
       "  'axis_d': tensor([0., 0., 1.]),\n",
       "  'R': tensor([[ 0.8192, -0.5736,  0.0000],\n",
       "          [ 0.5736,  0.8192,  0.0000],\n",
       "          [ 0.0000,  0.0000,  1.0000]]),\n",
       "  'theta': 0.6108652381980153,\n",
       "  'dist': tensor([0.])},\n",
       " {'axis_o': tensor([-0.4028, -0.2939,  0.8677]),\n",
       "  'axis_d': tensor([0., 0., 1.]),\n",
       "  'R': tensor([[ 0.7071,  0.7071,  0.0000],\n",
       "          [-0.7071,  0.7071,  0.0000],\n",
       "          [ 0.0000,  0.0000,  1.0000]]),\n",
       "  'theta': -0.7853981633974483,\n",
       "  'dist': tensor([0.])}]"
      ]
     },
     "execution_count": 29,
     "metadata": {},
     "output_type": "execute_result"
    }
   ],
   "source": [
    "gt_infos"
   ]
  },
  {
   "cell_type": "code",
   "execution_count": null,
   "metadata": {},
   "outputs": [],
   "source": []
  }
 ],
 "metadata": {
  "kernelspec": {
   "display_name": "art_ngp",
   "language": "python",
   "name": "python3"
  },
  "language_info": {
   "codemirror_mode": {
    "name": "ipython",
    "version": 3
   },
   "file_extension": ".py",
   "mimetype": "text/x-python",
   "name": "python",
   "nbconvert_exporter": "python",
   "pygments_lexer": "ipython3",
   "version": "3.8.18"
  }
 },
 "nbformat": 4,
 "nbformat_minor": 2
}
