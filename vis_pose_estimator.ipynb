{
 "cells": [
  {
   "cell_type": "code",
   "execution_count": 1,
   "metadata": {},
   "outputs": [
    {
     "name": "stdout",
     "output_type": "stream",
     "text": [
      "Jupyter environment detected. Enabling Open3D WebVisualizer.\n",
      "[Open3D INFO] WebRTC GUI backend enabled.\n",
      "[Open3D INFO] WebRTCWindowSystem: HTTP handshake server disabled.\n",
      "====================================================================================================\n",
      "running exp: stapler_end_to_start_f16\n",
      "====================================================================================================\n",
      "====================================================================================================\n",
      "======================================== loading coarse pose estimator ========================================\n",
      "====================================================================================================\n"
     ]
    }
   ],
   "source": [
    "import os\n",
    "from config import get_opts\n",
    "from models.ngp_wrapper import NGP_Prop_Art_Wrapper, NGP_Prop_Wrapper, NGP_Prop_Art_Seg_Wrapper\n",
    "import torch\n",
    "from torch.utils.data import DataLoader\n",
    "from dataset.sapien import SapienParisDataset\n",
    "from tqdm import tqdm\n",
    "import open3d as o3d\n",
    "import sys\n",
    "import traceback\n",
    "from pose_estimation import PoseEstimator\n",
    "from test_ngp import NGPevaluator\n",
    "from dataset.pose_utils import quaternion_to_axis_angle, get_rotation_axis_angle\n",
    "from dataset.io_utils import load_gt_from_json\n",
    "from models.utils import axis_metrics, geodesic_distance, translational_error\n",
    "import numpy as np\n",
    "import torchvision.transforms.functional as tvf\n",
    "\n",
    "argv_string = [\"--config\", \"configs_seg/stapler_f16.json\"]\n",
    "\n",
    "opts = get_opts(argv_string)\n",
    "\n",
    "print(\"=\" * 100)\n",
    "print(f\"running exp: {opts.exp_name}\")\n",
    "print(\"=\" * 100)\n",
    "\n",
    "# sys.stdout = TracePrints()\n",
    "# set device\n",
    "if torch.cuda.is_available():\n",
    "    device = 'cuda'\n",
    "else:\n",
    "    device = 'cpu'\n",
    "\n",
    "setattr(opts, 'device', device)\n",
    "\n",
    "gt_info = load_gt_from_json(opts.motion_gt_json, opts.state, opts.motion_type)\n",
    "\n",
    "# load model\n",
    "ignore_empty = False\n",
    "if opts.use_art_seg_estimator:\n",
    "    model = NGP_Prop_Art_Seg_Wrapper(config=opts, training=True, \n",
    "                                        ignore_empty=ignore_empty, use_timestamp=True, use_se3=opts.use_se3)\n",
    "else:\n",
    "    model = NGP_Prop_Art_Wrapper(config=opts, training=True, ignore_empty=ignore_empty)\n",
    "co_mask = 'stapler_art_mask.pth'\n",
    "# load dataset\n",
    "train_dataset = SapienParisDataset(\n",
    "    root_dir = opts.root_dir,\n",
    "    near = opts.near_plane,\n",
    "    far = opts.far_plane,\n",
    "    img_wh = opts.img_wh, \n",
    "    batch_size=opts.batch_size,\n",
    "    split='train',\n",
    "    render_bkgd='white',\n",
    "    ignore_empty=ignore_empty,\n",
    "    co_mask=None,\n",
    "    state=opts.state\n",
    ")\n",
    "\n",
    "test_dataset = SapienParisDataset(\n",
    "    root_dir = opts.root_dir,\n",
    "    near = opts.near_plane,\n",
    "    far = opts.far_plane,\n",
    "    img_wh = opts.img_wh, \n",
    "    batch_size=opts.batch_size,\n",
    "    split='val',\n",
    "    render_bkgd='white',\n",
    "    state=opts.state\n",
    ")\n",
    "pose_lr = 1e-1\n",
    "# load pose estimator\n",
    "print('=' * 100)\n",
    "print('=' * 40, 'loading coarse pose estimator', '=' * 40)\n",
    "print('=' * 100)\n",
    "# pretrain_cfg = opts.pretrained_config\n",
    "# pretrain_strs = [\"--config\", pretrain_cfg]\n",
    "# pretrain_opts = get_opts(pretrain_strs)\n",
    "\n",
    "    \n",
    "pretran_model = NGP_Prop_Wrapper(opts, training=False)\n",
    "\n",
    "renderer = NGPevaluator(opts, dataset=train_dataset, model=pretran_model)"
   ]
  },
  {
   "cell_type": "code",
   "execution_count": 2,
   "metadata": {},
   "outputs": [
    {
     "name": "stdout",
     "output_type": "stream",
     "text": [
      "------------------------------------------\n",
      "collecting points for parts\n",
      "------------------------------------------\n"
     ]
    },
    {
     "name": "stderr",
     "output_type": "stream",
     "text": [
      "100%|██████████| 16/16 [00:03<00:00,  4.45it/s]\n"
     ]
    },
    {
     "name": "stdout",
     "output_type": "stream",
     "text": [
      "training with frames: tensor([ 5,  6,  2,  8, 10,  7,  4, 15,  3, 13, 11, 12,  0, 14,  1,  9],\n",
      "       device='cuda:0')\n",
      "------------------------------------------\n",
      "collecting points for parts again after frame selection\n",
      "------------------------------------------\n",
      "-----------removing outliers from nerf scan-----------\n"
     ]
    },
    {
     "name": "stderr",
     "output_type": "stream",
     "text": [
      "100%|██████████| 16/16 [00:03<00:00,  5.32it/s]\n",
      "100%|██████████| 16/16 [00:02<00:00,  5.36it/s]\n"
     ]
    }
   ],
   "source": [
    "estimator = PoseEstimator(renderer=renderer, dataset=train_dataset, output_dir=model.eval_path, use_num_frames=opts.use_num_frames, device=device, scaling=0.5, use_se3=opts.use_se3, motion_type=opts.motion_type, idx_list=None, eps=opts.eps, select_frame=opts.use_num_frames)"
   ]
  },
  {
   "cell_type": "code",
   "execution_count": 3,
   "metadata": {},
   "outputs": [
    {
     "data": {
      "text/plain": [
       "tensor([[False, False, False,  ..., False, False, False],\n",
       "        [False, False, False,  ..., False, False, False],\n",
       "        [False, False, False,  ..., False, False, False],\n",
       "        ...,\n",
       "        [False, False, False,  ..., False, False, False],\n",
       "        [False, False, False,  ..., False, False, False],\n",
       "        [False, False, False,  ..., False, False, False]], device='cuda:0')"
      ]
     },
     "execution_count": 3,
     "metadata": {},
     "output_type": "execute_result"
    }
   ],
   "source": [
    "estimator.co_mask_list[0]"
   ]
  },
  {
   "cell_type": "code",
   "execution_count": 4,
   "metadata": {},
   "outputs": [],
   "source": [
    "final_2d_pts, tgt_pts, dy_pts, co_pts = estimator.proj_3d_to_2d(0, vis=True)"
   ]
  },
  {
   "cell_type": "code",
   "execution_count": 10,
   "metadata": {},
   "outputs": [],
   "source": [
    "dy_img = tvf.to_pil_image(estimator.pts_2d_to_img(dy_pts).unsqueeze(0))\n",
    "co_img = tvf.to_pil_image(estimator.pts_2d_to_img(co_pts))\n",
    "tgt_img = tvf.to_pil_image(estimator.pts_2d_to_img(tgt_pts))"
   ]
  },
  {
   "cell_type": "code",
   "execution_count": 12,
   "metadata": {},
   "outputs": [],
   "source": [
    "dy_img.save('vis/dy_img.png')\n",
    "co_img.save('vis/co_img.png')\n",
    "tgt_img.save('vis/tgt_img.png')"
   ]
  },
  {
   "cell_type": "code",
   "execution_count": 7,
   "metadata": {},
   "outputs": [],
   "source": []
  },
  {
   "cell_type": "code",
   "execution_count": 13,
   "metadata": {},
   "outputs": [
    {
     "data": {
      "text/plain": [
       "torch.Size([100, 640000, 3])"
      ]
     },
     "execution_count": 13,
     "metadata": {},
     "output_type": "execute_result"
    }
   ],
   "source": [
    "estimator.dataset.rgb.shape"
   ]
  },
  {
   "cell_type": "code",
   "execution_count": 17,
   "metadata": {},
   "outputs": [],
   "source": [
    "rgb0 = estimator.dataset.rgb[estimator.idx_list[0],:, :].view(800, 800, 3).permute(2, 0, 1)"
   ]
  },
  {
   "cell_type": "code",
   "execution_count": 18,
   "metadata": {},
   "outputs": [],
   "source": [
    "rgb0_img = tvf.to_pil_image(rgb0)"
   ]
  },
  {
   "cell_type": "code",
   "execution_count": 19,
   "metadata": {},
   "outputs": [],
   "source": [
    "rgb0_img.save('vis/tgt_rgb.png')"
   ]
  },
  {
   "cell_type": "code",
   "execution_count": null,
   "metadata": {},
   "outputs": [],
   "source": []
  }
 ],
 "metadata": {
  "kernelspec": {
   "display_name": "art_ngp",
   "language": "python",
   "name": "python3"
  },
  "language_info": {
   "codemirror_mode": {
    "name": "ipython",
    "version": 3
   },
   "file_extension": ".py",
   "mimetype": "text/x-python",
   "name": "python",
   "nbconvert_exporter": "python",
   "pygments_lexer": "ipython3",
   "version": "3.8.18"
  }
 },
 "nbformat": 4,
 "nbformat_minor": 2
}
